{
 "cells": [
  {
   "cell_type": "code",
   "execution_count": 1,
   "id": "4da96791",
   "metadata": {},
   "outputs": [],
   "source": [
    "import os\n",
    "os.chdir('../')\n",
    "import VideoRecoder.Recode as R\n",
    "\n",
    "sample_video_path = '/Users/bassp/Videos/'\n",
    "\n",
    "er, new_path = R.mkdir(sample_video_path)\n",
    "video_paths, new_path_names = R.get_video_from_path(sample_video_path, new_path, ['.mp4'])\n"
   ]
  },
  {
   "cell_type": "code",
   "execution_count": 2,
   "id": "845570ae",
   "metadata": {},
   "outputs": [
    {
     "name": "stdout",
     "output_type": "stream",
     "text": [
      "Done\n",
      "Done\n",
      "Done\n",
      "Done\n",
      "Done\n",
      "Done\n",
      "Done\n",
      "Done\n",
      "Done\n"
     ]
    }
   ],
   "source": [
    "R.uptake_and_recode_video_file(video_paths, new_path_names, '.mp4')"
   ]
  },
  {
   "cell_type": "code",
   "execution_count": null,
   "id": "a3746541",
   "metadata": {},
   "outputs": [],
   "source": []
  }
 ],
 "metadata": {
  "kernelspec": {
   "display_name": "Python 3",
   "language": "python",
   "name": "python3"
  },
  "language_info": {
   "codemirror_mode": {
    "name": "ipython",
    "version": 3
   },
   "file_extension": ".py",
   "mimetype": "text/x-python",
   "name": "python",
   "nbconvert_exporter": "python",
   "pygments_lexer": "ipython3",
   "version": "3.8.5"
  }
 },
 "nbformat": 4,
 "nbformat_minor": 5
}
